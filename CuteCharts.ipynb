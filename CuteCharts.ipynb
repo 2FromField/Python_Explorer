{
 "cells": [
  {
   "cell_type": "code",
   "execution_count": 1,
   "metadata": {},
   "outputs": [
    {
     "data": {
      "text/html": [
       "\n",
       "<script>\n",
       "    require.config({\n",
       "        paths: {\n",
       "            'chartXkcd':'https://cdn.jsdelivr.net/npm/chart.xkcd@1.1/dist/chart.xkcd.min'\n",
       "        }\n",
       "    });\n",
       "</script>\n",
       "\n",
       "<div id=\"a263615350a04cdf835f5da20a31327a\" class=\"chart-container\" style=\"width: 800px\">\n",
       "        <svg id=\"chart_a263615350a04cdf835f5da20a31327a\"></svg>\n",
       "    </div>\n",
       "    <script>\n",
       "        require(['chartXkcd'], function(chartXkcd) {\n",
       "            const svg_a263615350a04cdf835f5da20a31327a = document.querySelector('#chart_a263615350a04cdf835f5da20a31327a')\n",
       "            const chart_a263615350a04cdf835f5da20a31327a = new chartXkcd.Line(svg_a263615350a04cdf835f5da20a31327a, {\"title\": \"\\u67d0\\u5546\\u573a\\u9500\\u552e\\u60c5\\u51b5\", \"data\": {\"datasets\": [{\"label\": \"series-A\", \"data\": [57, 134, 137, 129, 145, 60, 49]}, {\"label\": \"series-B\", \"data\": [114, 55, 27, 101, 125, 27, 105]}], \"labels\": [\"\\u886c\\u886b\", \"\\u6bdb\\u8863\", \"\\u9886\\u5e26\", \"\\u88e4\\u5b50\", \"\\u98ce\\u8863\", \"\\u9ad8\\u8ddf\\u978b\", \"\\u889c\\u5b50\"]}, \"xLabel\": \"I'm xlabel\", \"yLabel\": \"I'm ylabel\", \"options\": {\"yTickCount\": 3, \"legendPosition\": 1}});\n",
       "        })\n",
       "    </script>\n"
      ],
      "text/plain": [
       "<cutecharts.render.engine.HTML at 0x1103e9fc0>"
      ]
     },
     "execution_count": 1,
     "metadata": {},
     "output_type": "execute_result"
    }
   ],
   "source": [
    "from cutecharts.charts import Line\n",
    "import matplotlib.pyplot as plt\n",
    "\n",
    "\n",
    "chart = Line(\"某商场销售情况\")\n",
    "chart.set_options(\n",
    "    labels=[\"衬衫\", \"毛衣\", \"领带\", \"裤子\", \"风衣\", \"高跟鞋\", \"袜子\"],\n",
    "    x_label=\"I'm xlabel\",\n",
    "    y_label=\"I'm ylabel\",\n",
    ")\n",
    "chart.add_series(\"series-A\", [57, 134, 137, 129, 145, 60, 49])\n",
    "chart.add_series(\"series-B\", [114, 55, 27, 101, 125, 27, 105])\n",
    "chart.render_notebook()"
   ]
  },
  {
   "cell_type": "code",
   "execution_count": 3,
   "metadata": {},
   "outputs": [
    {
     "data": {
      "text/html": [
       "\n",
       "<script>\n",
       "    require.config({\n",
       "        paths: {\n",
       "            'chartXkcd':'https://cdn.jsdelivr.net/npm/chart.xkcd@1.1/dist/chart.xkcd.min'\n",
       "        }\n",
       "    });\n",
       "</script>\n",
       "\n",
       "<div id=\"0063cb897969490bb0d145c404704a3a\" class=\"chart-container\" style=\"width: 800px\">\n",
       "        <svg id=\"chart_0063cb897969490bb0d145c404704a3a\"></svg>\n",
       "    </div>\n",
       "    <script>\n",
       "        require(['chartXkcd'], function(chartXkcd) {\n",
       "            const svg_0063cb897969490bb0d145c404704a3a = document.querySelector('#chart_0063cb897969490bb0d145c404704a3a')\n",
       "            const chart_0063cb897969490bb0d145c404704a3a = new chartXkcd.Radar(svg_0063cb897969490bb0d145c404704a3a, {\"title\": \"Radar\", \"data\": {\"datasets\": [{\"label\": \"series A\", \"data\": [79, 29, 35, 63, 89, 133, 149]}, {\"label\": \"series B\", \"data\": [64, 27, 135, 146, 92, 89, 115]}], \"labels\": [\"\\u5468\\u4e00\", \"\\u5468\\u4e8c\", \"\\u5468\\u4e09\", \"\\u5468\\u56db\", \"\\u5468\\u4e94\", \"\\u5468\\u516d\", \"\\u5468\\u65e5\"]}, \"options\": {\"showLegend\": true, \"showLabel\": true, \"tickCount\": 3, \"legendPosition\": 1}});\n",
       "        })\n",
       "    </script>\n"
      ],
      "text/plain": [
       "<cutecharts.render.engine.HTML at 0x1103b7ac0>"
      ]
     },
     "execution_count": 3,
     "metadata": {},
     "output_type": "execute_result"
    }
   ],
   "source": [
    "from cutecharts.charts import Radar\n",
    "from cutecharts.faker import Faker\n",
    "\n",
    "def radar_base() -> Radar:\n",
    "    chart = Radar(\"Radar\")\n",
    "    chart.set_options(labels=Faker.choose())\n",
    "    chart.add_series('series A', Faker.values())\n",
    "    chart.add_series('series B', Faker.values())\n",
    "    return chart\n",
    "\n",
    "radar_base().render_notebook()"
   ]
  }
 ],
 "metadata": {
  "kernelspec": {
   "display_name": "pyenv",
   "language": "python",
   "name": "python3"
  },
  "language_info": {
   "codemirror_mode": {
    "name": "ipython",
    "version": 3
   },
   "file_extension": ".py",
   "mimetype": "text/x-python",
   "name": "python",
   "nbconvert_exporter": "python",
   "pygments_lexer": "ipython3",
   "version": "3.10.0"
  }
 },
 "nbformat": 4,
 "nbformat_minor": 2
}
